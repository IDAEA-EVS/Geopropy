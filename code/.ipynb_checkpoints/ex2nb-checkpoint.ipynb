{
 "cells": [
  {
   "cell_type": "code",
   "execution_count": null,
   "metadata": {},
   "outputs": [],
   "source": [
    "%matplotlib inline"
   ]
  },
  {
   "cell_type": "code",
   "execution_count": 1,
   "metadata": {
    "scrolled": false
   },
   "outputs": [
    {
     "name": "stdout",
     "output_type": "stream",
     "text": [
      "######### Pre-processing... #########\n",
      "########## Pre-processing finished #########\n",
      "Time: 0.0460000038147\n",
      "\n",
      " \n",
      " \n",
      "\n",
      "######### Reading data... #########\n",
      "######### Reading data finished #########\n",
      "Time: 0.055999994278\n",
      "\n",
      " \n",
      " \n",
      "\n",
      "######### 3D plane calculator, Projecting surface points, Generating Topography and guide bottom boundary... #########\n",
      "######### 3D plane calculator, Projecting surface points, Generating Topography and guide bottom boundary finished #########\n",
      "Time: 0.000999927520752\n",
      "\n",
      " \n",
      " \n",
      "\n",
      "######### Point extraction... #########\n",
      "######### Point extraction finished #########\n",
      "Time: 0.00200009346008\n",
      "\n",
      " \n",
      " \n",
      "\n",
      "####topography reading data and processing####\n",
      "####topography reading data and processing finished####\n",
      "Time: 0.0\n",
      "\n",
      " \n",
      " \n",
      "\n",
      "######### Critical zones processing... #########\n",
      "######### Critical zones processing finish #########\n",
      "Time: 0.0110001564026\n",
      "\n",
      " \n",
      " \n",
      "\n",
      "######### Generating automatic definite lines... #########\n",
      "######### Generating automatic definite lines finished #########\n",
      "Time: 0.0209999084473\n",
      "\n",
      " \n",
      " \n",
      "\n",
      "######### Angle processing... #########\n",
      "######### Angle processing finished #########\n",
      "Time: 0.0019998550415\n",
      "\n",
      " \n",
      " \n",
      "\n",
      "######### Automatic structure completion... #########\n",
      "######### Automatic structure completion finished #########\n",
      "Time: 0.0139999389648\n",
      "\n",
      " \n",
      " \n",
      "\n",
      "######### Ultimate bottom boundary... #########\n",
      "######### Ultimate bottom boundary finished #########\n",
      "Time: 9.41799998283\n",
      "\n",
      " \n",
      " \n",
      "\n",
      "######### Creating 3D point and layers (polylines) database... #########\n",
      "######### Creating 3D point and layers (polylines) database finished #########\n",
      "Time: 80.4159998894\n",
      "\n",
      " \n",
      " \n",
      "\n",
      "######### 3D to 2D Convertion, polygon determiner, 2D cross-section maker, 3D polygon database generator... #########\n",
      "######### 3D to 2D Convertion, polygon determiner, 2D cross-section maker, 3D polygon database generator finished #########\n",
      "Time: 96.510999918\n",
      "\n",
      " \n",
      " \n",
      "\n",
      "Total time:\n",
      "191.934000015\n",
      "\n",
      " \n",
      " \n",
      "\n"
     ]
    }
   ],
   "source": [
    "#Import GEOPROPY library\n",
    "import geopropy as gpp\n",
    "#Execute main function\n",
    "lit_table=\"Borehole_subunits\"\n",
    "bore_ids=[111,112,113,114,115,116,117,118,119,1110,1111,1112,1113,1114,1115,1116,1117,1118,1119,1120]\n",
    "database_dir=r\"your repo'\\Examples\\Synthetic2\\synthetic_2.mdb\"\n",
    "\n",
    "gpp.cross_section(database_dir, bore_ids, lit_table)\n"
   ]
  }
 ],
 "metadata": {
  "kernelspec": {
   "display_name": "Python 2.7.12 32-bit",
   "language": "python",
   "name": "python271232bit24ef8bafeb9746c0ab65d895d555c374"
  },
  "language_info": {
   "codemirror_mode": {
    "name": "ipython",
    "version": 2
   },
   "file_extension": ".py",
   "mimetype": "text/x-python",
   "name": "python",
   "nbconvert_exporter": "python",
   "pygments_lexer": "ipython2",
   "version": "2.7.12"
  }
 },
 "nbformat": 4,
 "nbformat_minor": 2
}
