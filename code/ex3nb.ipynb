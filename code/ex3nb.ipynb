{
 "cells": [
  {
   "cell_type": "code",
   "execution_count": 1,
   "metadata": {
    "scrolled": true
   },
   "outputs": [],
   "source": [
    "%matplotlib inline"
   ]
  },
  {
   "cell_type": "code",
   "execution_count": 2,
   "metadata": {},
   "outputs": [
    {
     "name": "stdout",
     "output_type": "stream",
     "text": [
      "######### Pre-processing... #########\n",
      "########## Pre-processing finished #########\n",
      "Time: 0.0\n",
      "\n",
      " \n",
      " \n",
      "\n",
      "######### Reading data... #########\n",
      "######### Reading data finished #########\n",
      "Time: 0.0620000362396\n",
      "\n",
      " \n",
      " \n",
      "\n",
      "######### 3D plane calculator, Projecting surface points, Generating Topography and guide bottom boundary... #########\n",
      "######### 3D plane calculator, Projecting surface points, Generating Topography and guide bottom boundary finished #########\n",
      "Time: 0.0\n",
      "\n",
      " \n",
      " \n",
      "\n",
      "######### Point extraction... #########\n",
      "######### Point extraction finished #########\n",
      "Time: 0.0\n",
      "\n",
      " \n",
      " \n",
      "\n",
      "####topography reading data and processing####\n",
      "####topography reading data and processing finished####\n",
      "Time: 0.0\n",
      "\n",
      " \n",
      " \n",
      "\n",
      "######### Critical zones processing... #########\n",
      "\n",
      "##########################################################################################\n",
      "##########################################################################################\n",
      "##########################################################################################\n",
      "Structure Determination\n",
      "priority: 4\n",
      "priority_type intrusion\n",
      "\n",
      "###########\n",
      "zone box:\n",
      "|   X |   Y |   Z |\n",
      "|-----+-----+-----|\n",
      "| 180 | 180 | -38 |\n",
      "| 230 | 230 | -38 |\n",
      "| 230 | 230 | -63 |\n",
      "| 180 | 180 | -63 |\n",
      "#############################################\n",
      "### RELATED FAULTS ###\n",
      "No related fault detected\n",
      "\n",
      "#############################################\n",
      "### ZONE INFORMATION ###\n",
      "\n",
      "| POINT_TYPE      |   BOREHOLE_ID |   BOREHOLE_INDEX | [X,Y,Z]               | POLARITY   |  POINT SIT.   |   POINT_ID |\n",
      "|-----------------+---------------+------------------+-----------------------+------------+---------------+------------|\n",
      "| Borehole_points |           117 |                8 | [180.0, 180.0, -55.0] | Normal     | Not Connected |         29 |\n",
      "| Borehole_points |           117 |                8 | [180.0, 180.0, -63.0] | Normal     | Not Connected |         30 |\n",
      "| Borehole_points |           118 |                9 | [230.0, 230.0, -38.0] | Normal     | Not Connected |         33 |\n",
      "| Borehole_points |           118 |                9 | [230.0, 230.0, -63.0] | Normal     | Not Connected |         34 |\n",
      "\n",
      "#######################################################################\n",
      "################# Stage 2: Semi-Automatic ############################\n",
      "#######################################################################\n",
      "\n",
      "please introduce consecutive POINT_IDs that you wish to connect in form of a list.\n",
      " In case the critical zone consist of more than one part, write 'SEPARATE' between POINT_IDs.\n",
      " Note that the introduced points have to follow the borehole arrangement \n",
      "\n",
      "In case this stage preferred to be done manually, Type:'jumptomanual'\n",
      "\n",
      "EXAMPLE: [25,26,37,38,'SEPARATE',45,46,'SEPARATE',65,68] or 'jumptomanual' \n",
      "\n"
     ]
    },
    {
     "ename": "AttributeError",
     "evalue": "'module' object has no attribute 'to_rgba'",
     "output_type": "error",
     "traceback": [
      "\u001b[1;31m---------------------------------------------------------------------------\u001b[0m",
      "\u001b[1;31mAttributeError\u001b[0m                            Traceback (most recent call last)",
      "\u001b[1;32m<ipython-input-2-5f15df882369>\u001b[0m in \u001b[0;36m<module>\u001b[1;34m()\u001b[0m\n\u001b[0;32m      5\u001b[0m \u001b[0mdatabase_dir\u001b[0m\u001b[1;33m=\u001b[0m\u001b[1;34mr\"C:\\Users\\Ash kan\\Documents\\Geopropy\\Examples\\Synthetic3\\synthetic_3.mdb\"\u001b[0m\u001b[1;33m\u001b[0m\u001b[0m\n\u001b[0;32m      6\u001b[0m \u001b[1;33m\u001b[0m\u001b[0m\n\u001b[1;32m----> 7\u001b[1;33m \u001b[0mgpp\u001b[0m\u001b[1;33m.\u001b[0m\u001b[0mcross_section\u001b[0m\u001b[1;33m(\u001b[0m\u001b[0mdatabase_dir\u001b[0m\u001b[1;33m,\u001b[0m \u001b[0mbore_ids\u001b[0m\u001b[1;33m,\u001b[0m \u001b[0mlit_table\u001b[0m\u001b[1;33m)\u001b[0m\u001b[1;33m\u001b[0m\u001b[0m\n\u001b[0m\u001b[0;32m      8\u001b[0m \u001b[1;31m#'jumptomanual'\u001b[0m\u001b[1;33m\u001b[0m\u001b[1;33m\u001b[0m\u001b[0m\n\u001b[0;32m      9\u001b[0m \u001b[1;31m#[ [ [ [166,166,-71 ,'116'],29,33 ] ,'','new_points'],[ 33,34,'same_bh_connect_right'],[ [ [173,173,-75 ,'116'],30,34 ] ,'','new_points']]\u001b[0m\u001b[1;33m\u001b[0m\u001b[1;33m\u001b[0m\u001b[0m\n",
      "\u001b[1;32mC:\\Users\\Ash kan\\Documents\\Geopropy\\code\\geopropy\\cross_section.pyc\u001b[0m in \u001b[0;36mcross_section\u001b[1;34m(database_dir, bore_IDs, Lithology_table, box_bottom_rate, bottomlength, predefined_angle_degree, Merge_Layers, bottom_box_type, xshifter, yshifter, epsbn_ratio, eps_ratio, ExtendLine_edit_distance, TrimLine_edit_dangle_length, Integrate_management_distance, del_x, del_y, smooth_2d, gen_polygons, developer_mode)\u001b[0m\n\u001b[0;32m    228\u001b[0m     \"\"\"\n\u001b[0;32m    229\u001b[0m     \u001b[1;32mif\u001b[0m \u001b[0mdeveloper_mode\u001b[0m\u001b[1;33m==\u001b[0m\u001b[0mTrue\u001b[0m\u001b[1;33m:\u001b[0m\u001b[1;33m\u001b[0m\u001b[0m\n\u001b[1;32m--> 230\u001b[1;33m         \u001b[0mmain_function\u001b[0m\u001b[1;33m(\u001b[0m\u001b[0mdatabase_dir\u001b[0m\u001b[1;33m,\u001b[0m\u001b[0mbore_IDs\u001b[0m\u001b[1;33m,\u001b[0m\u001b[0mLithology_table\u001b[0m\u001b[1;33m,\u001b[0m\u001b[0mbox_bottom_rate\u001b[0m\u001b[1;33m=\u001b[0m \u001b[1;36m1.1\u001b[0m\u001b[1;33m,\u001b[0m\u001b[0mbottomlength\u001b[0m\u001b[1;33m=\u001b[0m\u001b[1;36m15\u001b[0m\u001b[1;33m,\u001b[0m\u001b[0mpredefined_angle_degree\u001b[0m\u001b[1;33m=\u001b[0m\u001b[0mNone\u001b[0m\u001b[1;33m,\u001b[0m\u001b[0mMerge_Layers\u001b[0m\u001b[1;33m=\u001b[0m\u001b[0mFalse\u001b[0m\u001b[1;33m,\u001b[0m\u001b[0mbottom_box_type\u001b[0m\u001b[1;33m=\u001b[0m\u001b[1;34m'normalbottombox'\u001b[0m\u001b[1;33m,\u001b[0m\u001b[0mxshifter\u001b[0m\u001b[1;33m=\u001b[0m\u001b[1;36m0.5\u001b[0m\u001b[1;33m,\u001b[0m\u001b[0myshifter\u001b[0m\u001b[1;33m=\u001b[0m\u001b[1;36m0.5\u001b[0m\u001b[1;33m,\u001b[0m\u001b[0mepsbn_ratio\u001b[0m\u001b[1;33m=\u001b[0m\u001b[1;36m0.05\u001b[0m\u001b[1;33m,\u001b[0m\u001b[0meps_ratio\u001b[0m\u001b[1;33m=\u001b[0m\u001b[1;36m0.01\u001b[0m\u001b[1;33m,\u001b[0m\u001b[0mExtendLine_edit_distance\u001b[0m\u001b[1;33m=\u001b[0m\u001b[1;36m5\u001b[0m\u001b[1;33m,\u001b[0m\u001b[0mTrimLine_edit_dangle_length\u001b[0m\u001b[1;33m=\u001b[0m\u001b[1;36m2\u001b[0m\u001b[1;33m,\u001b[0m\u001b[0mIntegrate_management_distance\u001b[0m\u001b[1;33m=\u001b[0m\u001b[1;36m0.01\u001b[0m\u001b[1;33m,\u001b[0m\u001b[0mdel_x\u001b[0m\u001b[1;33m=\u001b[0m\u001b[1;36m10\u001b[0m\u001b[1;33m,\u001b[0m\u001b[0mdel_y\u001b[0m\u001b[1;33m=\u001b[0m\u001b[1;36m10\u001b[0m\u001b[1;33m,\u001b[0m\u001b[0msmooth_2d\u001b[0m\u001b[1;33m=\u001b[0m\u001b[0mFalse\u001b[0m\u001b[1;33m,\u001b[0m\u001b[0mgen_polygons\u001b[0m\u001b[1;33m=\u001b[0m\u001b[0mTrue\u001b[0m\u001b[1;33m)\u001b[0m\u001b[1;33m\u001b[0m\u001b[0m\n\u001b[0m\u001b[0;32m    231\u001b[0m     \u001b[1;32melif\u001b[0m \u001b[0mdeveloper_mode\u001b[0m\u001b[1;33m==\u001b[0m\u001b[0mFalse\u001b[0m\u001b[1;33m:\u001b[0m\u001b[1;33m\u001b[0m\u001b[0m\n\u001b[0;32m    232\u001b[0m         \u001b[1;32mtry\u001b[0m\u001b[1;33m:\u001b[0m\u001b[1;33m\u001b[0m\u001b[0m\n",
      "\u001b[1;32mC:\\Users\\Ash kan\\Documents\\Geopropy\\code\\geopropy\\cross_section.pyc\u001b[0m in \u001b[0;36mmain_function\u001b[1;34m(database_dir, bore_IDs, Lithology_table, box_bottom_rate, bottomlength, predefined_angle_degree, Merge_Layers, bottom_box_type, xshifter, yshifter, epsbn_ratio, eps_ratio, ExtendLine_edit_distance, TrimLine_edit_dangle_length, Integrate_management_distance, del_x, del_y, smooth_2d, gen_polygons)\u001b[0m\n\u001b[0;32m    113\u001b[0m     \u001b[1;32mprint\u001b[0m  \u001b[1;34m\"######### Critical zones processing... #########\"\u001b[0m\u001b[1;33m\u001b[0m\u001b[0m\n\u001b[0;32m    114\u001b[0m     \u001b[0mt0\u001b[0m\u001b[1;33m=\u001b[0m\u001b[0mtime\u001b[0m\u001b[1;33m.\u001b[0m\u001b[0mtime\u001b[0m\u001b[1;33m(\u001b[0m\u001b[1;33m)\u001b[0m\u001b[1;33m\u001b[0m\u001b[0m\n\u001b[1;32m--> 115\u001b[1;33m     \u001b[0mmainpointlist\u001b[0m\u001b[1;33m,\u001b[0m\u001b[0mmainpolylist\u001b[0m\u001b[1;33m=\u001b[0m\u001b[0mfoldfaulintrusionsitunationdeterminer\u001b[0m\u001b[1;33m.\u001b[0m\u001b[0mfoldfaulintrusionsitunationdeterminers\u001b[0m\u001b[1;33m(\u001b[0m\u001b[0mmainpointlist\u001b[0m\u001b[1;33m,\u001b[0m\u001b[0mmainpointlistreverse\u001b[0m\u001b[1;33m,\u001b[0m\u001b[0mmainpolylist\u001b[0m\u001b[1;33m,\u001b[0m\u001b[0mprior\u001b[0m\u001b[1;33m,\u001b[0m\u001b[0mindextemplist_with_coords\u001b[0m\u001b[1;33m,\u001b[0m\u001b[0mmaintopolist\u001b[0m\u001b[1;33m)\u001b[0m\u001b[1;33m\u001b[0m\u001b[0m\n\u001b[0m\u001b[0;32m    116\u001b[0m     \u001b[1;31m#IMPORTANT: output mainpointlist contains mainpointlistreverse also, the point situation for all points changed back\u001b[0m\u001b[1;33m\u001b[0m\u001b[1;33m\u001b[0m\u001b[0m\n\u001b[0;32m    117\u001b[0m     \u001b[0mt1\u001b[0m\u001b[1;33m=\u001b[0m\u001b[0mtime\u001b[0m\u001b[1;33m.\u001b[0m\u001b[0mtime\u001b[0m\u001b[1;33m(\u001b[0m\u001b[1;33m)\u001b[0m\u001b[1;33m\u001b[0m\u001b[0m\n",
      "\u001b[1;32mC:\\Users\\Ash kan\\Documents\\Geopropy\\code\\geopropy\\foldfaulintrusionsitunationdeterminer.pyc\u001b[0m in \u001b[0;36mfoldfaulintrusionsitunationdeterminers\u001b[1;34m(mainpointlist, mainpointlistreverse, mainpolylist, prior, indextemplist_with_coords, maintopolist)\u001b[0m\n\u001b[0;32m    371\u001b[0m             \u001b[1;31m#prior_num=criticals[0]\u001b[0m\u001b[1;33m\u001b[0m\u001b[1;33m\u001b[0m\u001b[0m\n\u001b[0;32m    372\u001b[0m             \u001b[1;31m#prior_type=criticals[2]\u001b[0m\u001b[1;33m\u001b[0m\u001b[1;33m\u001b[0m\u001b[0m\n\u001b[1;32m--> 373\u001b[1;33m             \u001b[0mmainpolylist\u001b[0m\u001b[1;33m,\u001b[0m\u001b[0mmainpointlistreverse\u001b[0m\u001b[1;33m,\u001b[0m\u001b[0mmainpointlist\u001b[0m\u001b[1;33m,\u001b[0m\u001b[0mmanual_all_intersection\u001b[0m\u001b[1;33m,\u001b[0m\u001b[0mcnt_whole\u001b[0m\u001b[1;33m=\u001b[0m\u001b[0mzone_decision_to_auto_or_manual\u001b[0m\u001b[1;33m(\u001b[0m\u001b[0mmainpointlist\u001b[0m\u001b[1;33m,\u001b[0m\u001b[0mmainpointlistreverse\u001b[0m\u001b[1;33m,\u001b[0m\u001b[0mmainpolylist\u001b[0m\u001b[1;33m,\u001b[0m\u001b[0mzone\u001b[0m\u001b[1;33m,\u001b[0m\u001b[0mcriticals\u001b[0m\u001b[1;33m[\u001b[0m\u001b[1;36m0\u001b[0m\u001b[1;33m]\u001b[0m\u001b[1;33m,\u001b[0m\u001b[0mcriticals\u001b[0m\u001b[1;33m[\u001b[0m\u001b[1;36m2\u001b[0m\u001b[1;33m]\u001b[0m\u001b[1;33m,\u001b[0m\u001b[0mindextemplist_with_coords\u001b[0m\u001b[1;33m,\u001b[0m\u001b[0mmaxpriority\u001b[0m\u001b[1;33m,\u001b[0m\u001b[0mzonepnts\u001b[0m\u001b[1;33m,\u001b[0m\u001b[0mmanual_all_intersection\u001b[0m\u001b[1;33m,\u001b[0m\u001b[0mcnt_whole\u001b[0m\u001b[1;33m)\u001b[0m\u001b[1;33m\u001b[0m\u001b[0m\n\u001b[0m\u001b[0;32m    374\u001b[0m \u001b[1;33m\u001b[0m\u001b[0m\n\u001b[0;32m    375\u001b[0m         \u001b[1;31m#here, the temp_surface_list have to be checked, for false values, and incase there is some, they have to be added to zone list as an individual critical zones to process\u001b[0m\u001b[1;33m\u001b[0m\u001b[1;33m\u001b[0m\u001b[0m\n",
      "\u001b[1;32mC:\\Users\\Ash kan\\Documents\\Geopropy\\code\\geopropy\\zone_decision_to_auto_or_manual.pyc\u001b[0m in \u001b[0;36mzone_decision_to_auto_or_manual\u001b[1;34m(mainpointlist, mainpointlistreverse, mainpolylist, zone, prior_num, prior_type, indextemplist_with_coords, maxpriority, zonepnts, manual_all_intersection, cnt_whole)\u001b[0m\n\u001b[0;32m     47\u001b[0m         \u001b[1;32mif\u001b[0m \u001b[0mzone\u001b[0m\u001b[1;33m[\u001b[0m\u001b[1;36m3\u001b[0m\u001b[1;33m]\u001b[0m \u001b[1;32min\u001b[0m \u001b[1;33m[\u001b[0m\u001b[1;34m\"manual_reverse_fault\"\u001b[0m\u001b[1;33m,\u001b[0m\u001b[1;34m\"manual_intrusion\"\u001b[0m\u001b[1;33m,\u001b[0m\u001b[1;34m\"manual_fold\"\u001b[0m\u001b[1;33m,\u001b[0m\u001b[1;34m\"auto_to_manual_reverse_fault\"\u001b[0m\u001b[1;33m,\u001b[0m\u001b[1;34m\"manual_zone_surface_points_merged\"\u001b[0m\u001b[1;33m,\u001b[0m\u001b[1;34m\"manual_zone_surface_points_selfstand\"\u001b[0m\u001b[1;33m]\u001b[0m\u001b[1;33m:\u001b[0m\u001b[1;33m\u001b[0m\u001b[0m\n\u001b[0;32m     48\u001b[0m             \u001b[1;32mif\u001b[0m \u001b[0mcnt_whole\u001b[0m\u001b[1;33m==\u001b[0m\u001b[1;36m1\u001b[0m\u001b[1;33m:\u001b[0m\u001b[1;33m\u001b[0m\u001b[0m\n\u001b[1;32m---> 49\u001b[1;33m                 \u001b[0mmainpointlist\u001b[0m\u001b[1;33m,\u001b[0m\u001b[0mmainpointlistreverse\u001b[0m\u001b[1;33m,\u001b[0m\u001b[0mmainpolylist\u001b[0m\u001b[1;33m,\u001b[0m\u001b[0mtemporary_manual_list\u001b[0m\u001b[1;33m=\u001b[0m\u001b[0mcriticalzonefunctions\u001b[0m\u001b[1;33m.\u001b[0m\u001b[0mprintandinputdata\u001b[0m\u001b[1;33m(\u001b[0m\u001b[0mprior_num\u001b[0m\u001b[1;33m,\u001b[0m\u001b[0mprior_type\u001b[0m\u001b[1;33m,\u001b[0m\u001b[0mzone\u001b[0m\u001b[1;33m[\u001b[0m\u001b[1;36m1\u001b[0m\u001b[1;33m]\u001b[0m\u001b[1;33m,\u001b[0m\u001b[0mzonepnts\u001b[0m\u001b[1;33m,\u001b[0m\u001b[0mmaxpriority\u001b[0m\u001b[1;33m,\u001b[0m\u001b[0mindextemplist_with_coords\u001b[0m\u001b[1;33m,\u001b[0m\u001b[0mmainpolylist\u001b[0m\u001b[1;33m,\u001b[0m\u001b[0mmainpointlist\u001b[0m\u001b[1;33m,\u001b[0m\u001b[0mmainpointlistreverse\u001b[0m\u001b[1;33m,\u001b[0m\u001b[0mzone\u001b[0m\u001b[1;33m[\u001b[0m\u001b[1;36m2\u001b[0m\u001b[1;33m]\u001b[0m\u001b[1;33m,\u001b[0m\u001b[0mzone\u001b[0m\u001b[1;33m[\u001b[0m\u001b[1;36m3\u001b[0m\u001b[1;33m]\u001b[0m\u001b[1;33m)\u001b[0m\u001b[1;33m\u001b[0m\u001b[0m\n\u001b[0m\u001b[0;32m     50\u001b[0m                 \u001b[0mmanual_all_intersection\u001b[0m\u001b[1;33m=\u001b[0m\u001b[0mtemporary_manual_list\u001b[0m\u001b[1;33m\u001b[0m\u001b[0m\n\u001b[0;32m     51\u001b[0m                 \u001b[1;32mdel\u001b[0m \u001b[0mtemporary_manual_list\u001b[0m\u001b[1;33m\u001b[0m\u001b[0m\n",
      "\u001b[1;32mC:\\Users\\Ash kan\\Documents\\Geopropy\\code\\geopropy\\criticalzonefunctions.pyc\u001b[0m in \u001b[0;36mprintandinputdata\u001b[1;34m(priority, priority_type, box_points_list, zonepnts, maxpriority, indextemplist_with_coords, mainpolylist, mainpointlist, mainpointlistreverse, all_faults, zone_type)\u001b[0m\n\u001b[0;32m    205\u001b[0m                 \u001b[0max\u001b[0m\u001b[1;33m.\u001b[0m\u001b[0mset_ylabel\u001b[0m\u001b[1;33m(\u001b[0m\u001b[1;34m'Y'\u001b[0m\u001b[1;33m)\u001b[0m\u001b[1;33m\u001b[0m\u001b[0m\n\u001b[0;32m    206\u001b[0m                 \u001b[0max\u001b[0m\u001b[1;33m.\u001b[0m\u001b[0mset_zlabel\u001b[0m\u001b[1;33m(\u001b[0m\u001b[1;34m'Z'\u001b[0m\u001b[1;33m)\u001b[0m\u001b[1;33m\u001b[0m\u001b[0m\n\u001b[1;32m--> 207\u001b[1;33m                 \u001b[0mpyplot\u001b[0m\u001b[1;33m.\u001b[0m\u001b[0mshow\u001b[0m\u001b[1;33m(\u001b[0m\u001b[1;33m)\u001b[0m\u001b[1;33m\u001b[0m\u001b[0m\n\u001b[0m\u001b[0;32m    208\u001b[0m                 \u001b[1;31m#############################\u001b[0m\u001b[1;33m\u001b[0m\u001b[1;33m\u001b[0m\u001b[0m\n\u001b[0;32m    209\u001b[0m                 \u001b[0mpoint_id_list\u001b[0m\u001b[1;33m=\u001b[0m\u001b[0minput\u001b[0m\u001b[1;33m(\u001b[0m\u001b[1;34m\"Enter the POINT_ID list:\"\u001b[0m\u001b[1;33m)\u001b[0m\u001b[1;33m\u001b[0m\u001b[0m\n",
      "\u001b[1;32mC:\\Python27\\ArcGIS10.5\\lib\\site-packages\\matplotlib\\pyplot.pyc\u001b[0m in \u001b[0;36mshow\u001b[1;34m(*args, **kw)\u001b[0m\n\u001b[0;32m    242\u001b[0m     \"\"\"\n\u001b[0;32m    243\u001b[0m     \u001b[1;32mglobal\u001b[0m \u001b[0m_show\u001b[0m\u001b[1;33m\u001b[0m\u001b[0m\n\u001b[1;32m--> 244\u001b[1;33m     \u001b[1;32mreturn\u001b[0m \u001b[0m_show\u001b[0m\u001b[1;33m(\u001b[0m\u001b[1;33m*\u001b[0m\u001b[0margs\u001b[0m\u001b[1;33m,\u001b[0m \u001b[1;33m**\u001b[0m\u001b[0mkw\u001b[0m\u001b[1;33m)\u001b[0m\u001b[1;33m\u001b[0m\u001b[0m\n\u001b[0m\u001b[0;32m    245\u001b[0m \u001b[1;33m\u001b[0m\u001b[0m\n\u001b[0;32m    246\u001b[0m \u001b[1;33m\u001b[0m\u001b[0m\n",
      "\u001b[1;32mC:\\Python27\\ArcGIS10.5\\lib\\site-packages\\ipykernel\\pylab\\backend_inline.pyc\u001b[0m in \u001b[0;36mshow\u001b[1;34m(close, block)\u001b[0m\n\u001b[0;32m     37\u001b[0m             display(\n\u001b[0;32m     38\u001b[0m                 \u001b[0mfigure_manager\u001b[0m\u001b[1;33m.\u001b[0m\u001b[0mcanvas\u001b[0m\u001b[1;33m.\u001b[0m\u001b[0mfigure\u001b[0m\u001b[1;33m,\u001b[0m\u001b[1;33m\u001b[0m\u001b[0m\n\u001b[1;32m---> 39\u001b[1;33m                 \u001b[0mmetadata\u001b[0m\u001b[1;33m=\u001b[0m\u001b[0m_fetch_figure_metadata\u001b[0m\u001b[1;33m(\u001b[0m\u001b[0mfigure_manager\u001b[0m\u001b[1;33m.\u001b[0m\u001b[0mcanvas\u001b[0m\u001b[1;33m.\u001b[0m\u001b[0mfigure\u001b[0m\u001b[1;33m)\u001b[0m\u001b[1;33m\u001b[0m\u001b[0m\n\u001b[0m\u001b[0;32m     40\u001b[0m             )\n\u001b[0;32m     41\u001b[0m     \u001b[1;32mfinally\u001b[0m\u001b[1;33m:\u001b[0m\u001b[1;33m\u001b[0m\u001b[0m\n",
      "\u001b[1;32mC:\\Python27\\ArcGIS10.5\\lib\\site-packages\\ipykernel\\pylab\\backend_inline.pyc\u001b[0m in \u001b[0;36m_fetch_figure_metadata\u001b[1;34m(fig)\u001b[0m\n\u001b[0;32m    172\u001b[0m     \u001b[1;34m\"\"\"Get some metadata to help with displaying a figure.\"\"\"\u001b[0m\u001b[1;33m\u001b[0m\u001b[0m\n\u001b[0;32m    173\u001b[0m     \u001b[1;31m# determine if a background is needed for legibility\u001b[0m\u001b[1;33m\u001b[0m\u001b[1;33m\u001b[0m\u001b[0m\n\u001b[1;32m--> 174\u001b[1;33m     \u001b[1;32mif\u001b[0m \u001b[0m_is_transparent\u001b[0m\u001b[1;33m(\u001b[0m\u001b[0mfig\u001b[0m\u001b[1;33m.\u001b[0m\u001b[0mget_facecolor\u001b[0m\u001b[1;33m(\u001b[0m\u001b[1;33m)\u001b[0m\u001b[1;33m)\u001b[0m\u001b[1;33m:\u001b[0m\u001b[1;33m\u001b[0m\u001b[0m\n\u001b[0m\u001b[0;32m    175\u001b[0m         \u001b[1;31m# the background is transparent\u001b[0m\u001b[1;33m\u001b[0m\u001b[1;33m\u001b[0m\u001b[0m\n\u001b[0;32m    176\u001b[0m         ticksLight = _is_light([label.get_color()\n",
      "\u001b[1;32mC:\\Python27\\ArcGIS10.5\\lib\\site-packages\\ipykernel\\pylab\\backend_inline.pyc\u001b[0m in \u001b[0;36m_is_transparent\u001b[1;34m(color)\u001b[0m\n\u001b[0;32m    193\u001b[0m \u001b[1;32mdef\u001b[0m \u001b[0m_is_transparent\u001b[0m\u001b[1;33m(\u001b[0m\u001b[0mcolor\u001b[0m\u001b[1;33m)\u001b[0m\u001b[1;33m:\u001b[0m\u001b[1;33m\u001b[0m\u001b[0m\n\u001b[0;32m    194\u001b[0m     \u001b[1;34m\"\"\"Determine transparency from alpha.\"\"\"\u001b[0m\u001b[1;33m\u001b[0m\u001b[0m\n\u001b[1;32m--> 195\u001b[1;33m     \u001b[0mrgba\u001b[0m \u001b[1;33m=\u001b[0m \u001b[0mcolors\u001b[0m\u001b[1;33m.\u001b[0m\u001b[0mto_rgba\u001b[0m\u001b[1;33m(\u001b[0m\u001b[0mcolor\u001b[0m\u001b[1;33m)\u001b[0m\u001b[1;33m\u001b[0m\u001b[0m\n\u001b[0m\u001b[0;32m    196\u001b[0m     \u001b[1;32mreturn\u001b[0m \u001b[0mrgba\u001b[0m\u001b[1;33m[\u001b[0m\u001b[1;36m3\u001b[0m\u001b[1;33m]\u001b[0m \u001b[1;33m<\u001b[0m \u001b[1;36m.5\u001b[0m\u001b[1;33m\u001b[0m\u001b[0m\n",
      "\u001b[1;31mAttributeError\u001b[0m: 'module' object has no attribute 'to_rgba'"
     ]
    }
   ],
   "source": [
    "#Import GEOPROPY library\n",
    "import geopropy as gpp\n",
    "#Execute main function\n",
    "lit_table=\"Borehole_subunits\"\n",
    "bore_ids=[111,112,113,114,115,116,117,118,119]\n",
    "database_dir=r\"your repo'\\Examples\\Synthetic3\\Ssynthetic_3.mdb\"\n",
    "\n",
    "gpp.cross_section(database_dir, bore_ids, lit_table)\n",
    "#'jumptomanual'\n",
    "#[ [ [ [166,166,-71 ,'116'],29,33 ] ,'','new_points'],[ 33,34,'same_bh_connect_right'],[ [ [173,173,-75 ,'116'],30,34 ] ,'','new_points']]\n",
    "#[3,'SEPARATE',9,15,14,'SEPARATE',8,5,11,'SEPARATE',17]\n",
    "#[4,'SEPARATE',10,16,13,'SEPARATE',7,6,12,'SEPARATE',18]"
   ]
  }
 ],
 "metadata": {
  "kernelspec": {
   "display_name": "Python 2.7.12 32-bit",
   "language": "python",
   "name": "python271232bit24ef8bafeb9746c0ab65d895d555c374"
  },
  "language_info": {
   "codemirror_mode": {
    "name": "ipython",
    "version": 2
   },
   "file_extension": ".py",
   "mimetype": "text/x-python",
   "name": "python",
   "nbconvert_exporter": "python",
   "pygments_lexer": "ipython2",
   "version": "2.7.12"
  }
 },
 "nbformat": 4,
 "nbformat_minor": 2
}
