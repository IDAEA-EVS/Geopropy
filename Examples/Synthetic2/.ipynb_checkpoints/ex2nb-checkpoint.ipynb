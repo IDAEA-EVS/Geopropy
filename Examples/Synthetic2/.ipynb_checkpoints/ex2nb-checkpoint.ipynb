{
 "cells": [
  {
   "cell_type": "code",
   "execution_count": null,
   "metadata": {
    "scrolled": false
   },
   "outputs": [],
   "source": [
    "#Import GEOPROPY library\n",
    "Import geopropy as gpp\n",
    "#Execute main function\n",
    "lit_table=\"Borehole_subunits\"\n",
    "bore_ids=[111,112,113,114,115,116,117,118,119,1110,1111,1112,1113,1114,1115,1116,1117,1118,119,1120]\n",
    "database_dir=r\"C:\\Users\\Ash kan\\Desktop\\repogeopropy\\Synthetic2\\synthetic_2.mdb\"\n",
    "\n",
    "gpp.cross_section(database_dir, bore_ids, lit_table)\n"
   ]
  }
 ],
 "metadata": {
  "kernelspec": {
   "display_name": "Python 2",
   "language": "python",
   "name": "python2"
  },
  "language_info": {
   "codemirror_mode": {
    "name": "ipython",
    "version": 2
   },
   "file_extension": ".py",
   "mimetype": "text/x-python",
   "name": "python",
   "nbconvert_exporter": "python",
   "pygments_lexer": "ipython2",
   "version": "2.7.12"
  }
 },
 "nbformat": 4,
 "nbformat_minor": 2
}
